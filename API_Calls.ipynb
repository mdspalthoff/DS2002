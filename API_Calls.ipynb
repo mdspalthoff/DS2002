{
 "cells": [
  {
   "cell_type": "code",
   "execution_count": 179,
   "id": "4d840e86-660b-43b9-b18b-12ce1ef7fde7",
   "metadata": {},
   "outputs": [],
   "source": [
    "import os\n",
    "import json\n",
    "import pprint\n",
    "import requests\n",
    "import requests.exceptions\n",
    "import pandas as pd\n",
    "from datetime import datetime"
   ]
  },
  {
   "cell_type": "code",
   "execution_count": 180,
   "id": "daffdd7d-fb52-468a-9548-ec96192ead06",
   "metadata": {},
   "outputs": [],
   "source": [
    "def get_api_response(url, response_type):\n",
    "    try:\n",
    "        response = requests.get(url)\n",
    "        response.raise_for_status()\n",
    "    \n",
    "    except requests.exceptions.HTTPError as errh:\n",
    "        return \"An Http Error occurred: \" + repr(errh)\n",
    "    except requests.exceptions.ConnectionError as errc:\n",
    "        return \"An Error Connecting to the API occurred: \" + repr(errc)\n",
    "    except requests.exceptions.Timeout as errt:\n",
    "        return \"A Timeout Error occurred: \" + repr(errt)\n",
    "    except requests.exceptions.RequestException as err:\n",
    "        return \"An Unknown Error occurred: \" + repr(err)\n",
    "\n",
    "    if response_type == 'json':\n",
    "        result = json.dumps(response.json(), sort_keys=True, indent=4)\n",
    "    elif response_type == 'dataframe':\n",
    "        result = pd.json_normalize(response.json())\n",
    "    else:\n",
    "        result = \"An unhandled error has occurred!\"\n",
    "        \n",
    "    return result\n"
   ]
  },
  {
   "cell_type": "code",
   "execution_count": 181,
   "id": "c48933d7-c9fe-48af-a38f-cc376d4bd1ae",
   "metadata": {},
   "outputs": [
    {
     "name": "stdin",
     "output_type": "stream",
     "text": [
      " DIS\n"
     ]
    }
   ],
   "source": [
    "stock=input()"
   ]
  },
  {
   "cell_type": "code",
   "execution_count": 182,
   "id": "64e71f68-e12a-4c07-a670-d959b1cabdba",
   "metadata": {},
   "outputs": [
    {
     "name": "stdout",
     "output_type": "stream",
     "text": [
      "The Stock we will research is: DIS\n"
     ]
    }
   ],
   "source": [
    "print(\"The Stock we will research is: \" + stock)"
   ]
  },
  {
   "cell_type": "code",
   "execution_count": 183,
   "id": "44467830-322b-4425-a8ec-93bdbc57e220",
   "metadata": {},
   "outputs": [
    {
     "name": "stdout",
     "output_type": "stream",
     "text": [
      "{\"quoteResponse\":{\"result\":[{\"language\":\"en-US\",\"region\":\"US\",\"quoteType\":\"EQUITY\",\"typeDisp\":\"Equity\",\"quoteSourceName\":\"Delayed Quote\",\"triggerable\":true,\"customPriceAlertConfidence\":\"HIGH\",\"currency\":\"USD\",\"messageBoardId\":\"finmb_191564\",\"exchangeTimezoneName\":\"America/New_York\",\"exchangeTimezoneShortName\":\"EST\",\"gmtOffSetMilliseconds\":-18000000,\"market\":\"us_market\",\"esgPopulated\":false,\"regularMarketChangePercent\":0.14954525,\"regularMarketPrice\":100.45,\"tradeable\":false,\"cryptoTradeable\":false,\"exchange\":\"NYQ\",\"shortName\":\"Walt Disney Company (The)\",\"longName\":\"The Walt Disney Company\",\"marketState\":\"POSTPOST\",\"regularMarketDayRange\":\"100.06 - 101.47\",\"regularMarketDayLow\":100.06,\"regularMarketVolume\":6483887,\"regularMarketPreviousClose\":100.3,\"bid\":100.54,\"ask\":100.55,\"bidSize\":10,\"askSize\":8,\"fullExchangeName\":\"NYSE\",\"financialCurrency\":\"USD\",\"regularMarketOpen\":100.73,\"averageDailyVolume3Month\":13281791,\"averageDailyVolume10Day\":10581670,\"fiftyTwoWeekLowChange\":16.379997,\"fiftyTwoWeekLowChangePercent\":0.1948376,\"fiftyTwoWeekRange\":\"84.07 - 148.65\",\"fiftyTwoWeekHighChange\":-48.199997,\"fiftyTwoWeekHighChangePercent\":-0.3242516,\"fiftyTwoWeekLow\":84.07,\"fiftyTwoWeekHigh\":148.65,\"dividendDate\":1579132800,\"earningsTimestamp\":1675891800,\"earningsTimestampStart\":1683629940,\"earningsTimestampEnd\":1684152000,\"trailingAnnualDividendRate\":0.0,\"trailingPE\":55.805553,\"trailingAnnualDividendYield\":0.0,\"epsTrailingTwelveMonths\":1.8,\"epsForward\":5.52,\"epsCurrentYear\":4.15,\"priceEpsCurrentYear\":24.204819,\"sharesOutstanding\":1826809984,\"bookValue\":52.656,\"fiftyDayAverage\":99.6828,\"fiftyDayAverageChange\":0.76719666,\"fiftyDayAverageChangePercent\":0.0076963794,\"twoHundredDayAverage\":101.92725,\"twoHundredDayAverageChange\":-1.4772568,\"twoHundredDayAverageChangePercent\":-0.014493247,\"marketCap\":183503060992,\"forwardPE\":18.197464,\"priceToBook\":1.9076649,\"sourceInterval\":15,\"exchangeDataDelayedBy\":0,\"averageAnalystRating\":\"2.0 - Buy\",\"postMarketChangePercent\":0.12942249,\"postMarketTime\":1677545998,\"postMarketPrice\":100.58,\"postMarketChange\":0.13000488,\"regularMarketChange\":0.1499939,\"regularMarketTime\":1677531830,\"regularMarketDayHigh\":101.47,\"firstTradeDateMilliseconds\":-252322200000,\"priceHint\":2,\"symbol\":\"DIS\"}],\"error\":null}}\n"
     ]
    },
    {
     "data": {
      "text/plain": [
       "\"An Http Error occurred: HTTPError('403 Client Error: Forbidden for url: https://yfapi.net/v6/finance/quote')\""
      ]
     },
     "execution_count": 183,
     "metadata": {},
     "output_type": "execute_result"
    }
   ],
   "source": [
    "url = \"https://yfapi.net/v6/finance/quote\"\n",
    "\n",
    "querystring = {\"symbols\":stock}\n",
    "\n",
    "headers = {\n",
    "    'x-api-key': \"zIhMfdjcn6wZdkHdBMWX6gMLK4HyBZS34ftSIjm1\"\n",
    "    }\n",
    "\n",
    "response = requests.request(\"GET\", url, headers=headers, params=querystring)\n",
    "\n",
    "print(response.text)"
   ]
  },
  {
   "cell_type": "code",
   "execution_count": null,
   "id": "a33aed1f-354b-4489-8e1b-7a3044a7b4a8",
   "metadata": {},
   "outputs": [],
   "source": [
    "url2 = \"https://yfapi.net/v11/finance/quoteSummary/\" + stock + \"?lang=en&region=US&modules=defaultKeyStatistics\"\n",
    "\n",
    "querystring = {\"symbols\":stock}\n",
    "\n",
    "headers = {\n",
    "    'x-api-key': \"zIhMfdjcn6wZdkHdBMWX6gMLK4HyBZS34ftSIjm1\"\n",
    "    }\n",
    "\n",
    "response2 = requests.request(\"GET\", url2, headers=headers, params=querystring)\n",
    "\n",
    "print(response2.text)"
   ]
  },
  {
   "cell_type": "code",
   "execution_count": null,
   "id": "29925467-2910-4582-baa4-3ed15170d006",
   "metadata": {},
   "outputs": [],
   "source": [
    "url3 = 'https://yfapi.net/ws/insights/v1/finance/insights?symbol=' + stock\n",
    "\n",
    "querystring = {\"symbols\":stock}\n",
    "\n",
    "headers = {\n",
    "    'x-api-key': \"zIhMfdjcn6wZdkHdBMWX6gMLK4HyBZS34ftSIjm1\"\n",
    "    }\n",
    "\n",
    "response3 = requests.request(\"GET\", url3, headers=headers, params=querystring)\n",
    "\n",
    "#print(response3.text)"
   ]
  },
  {
   "cell_type": "code",
   "execution_count": null,
   "id": "771c9b53-887c-417c-810c-5676ce64ca22",
   "metadata": {},
   "outputs": [],
   "source": [
    "url4 = 'https://yfapi.net/v11/finance/quoteSummary/' + stock + '?lang=en&region=US&modules=financialData'\n",
    "\n",
    "querystring = {\"symbols\":stock}\n",
    "\n",
    "headers = {\n",
    "    'x-api-key': \"zIhMfdjcn6wZdkHdBMWX6gMLK4HyBZS34ftSIjm1\"\n",
    "    }\n",
    "\n",
    "response4 = requests.request(\"GET\", url4, headers=headers, params=querystring)\n",
    "\n",
    "print(response4.text)"
   ]
  },
  {
   "cell_type": "code",
   "execution_count": null,
   "id": "6621d109-2f26-457d-85f0-291b03d52b58",
   "metadata": {},
   "outputs": [],
   "source": [
    "stock_json = response.json() \n",
    "print(stock_json['quoteResponse']['result'][0][\"longName\"] + \" Price: $\" + str(stock_json['quoteResponse']['result'][0][\"regularMarketPrice\"]))\n",
    "\n",
    "stock_json2 = response2.json()\n",
    "\n",
    "stock_json3 = response3.json()\n",
    "\n",
    "stock_json4 = response4.json()"
   ]
  },
  {
   "cell_type": "code",
   "execution_count": 173,
   "id": "be888d38-8e4a-4a00-9656-ec7e0a5547d5",
   "metadata": {},
   "outputs": [
    {
     "name": "stdout",
     "output_type": "stream",
     "text": [
      "DIS; The Walt Disney Company; 100.45; 130.0; 8,470,000,128; 3.93%; 2023-02-27\n"
     ]
    }
   ],
   "source": [
    "print(stock_json[\"quoteResponse\"][\"result\"][0][\"symbol\"] + \"; \" + \n",
    "      stock_json[\"quoteResponse\"][\"result\"][0][\"longName\"] + \"; \" + \n",
    "      str(stock_json[\"quoteResponse\"][\"result\"][0][\"regularMarketPrice\"]) + \"; \" + \n",
    "      str(stock_json3[\"finance\"][\"result\"][\"instrumentInfo\"][\"recommendation\"][\"targetPrice\"]) + \"; \" + \n",
    "      str(stock_json4[\"quoteSummary\"][\"result\"][0][\"financialData\"][\"totalCash\"][\"longFmt\"]) + \"; \" +\n",
    "      stock_json2[\"quoteSummary\"][\"result\"][0][\"defaultKeyStatistics\"][\"profitMargins\"][\"fmt\"] + \"; \" + str(date.today()))"
   ]
  },
  {
   "cell_type": "code",
   "execution_count": 178,
   "id": "0712c1ff-c2d3-4b3e-828e-90f09db6d123",
   "metadata": {},
   "outputs": [
    {
     "data": {
      "text/html": [
       "<div>\n",
       "<style scoped>\n",
       "    .dataframe tbody tr th:only-of-type {\n",
       "        vertical-align: middle;\n",
       "    }\n",
       "\n",
       "    .dataframe tbody tr th {\n",
       "        vertical-align: top;\n",
       "    }\n",
       "\n",
       "    .dataframe thead th {\n",
       "        text-align: right;\n",
       "    }\n",
       "</style>\n",
       "<table border=\"1\" class=\"dataframe\">\n",
       "  <thead>\n",
       "    <tr style=\"text-align: right;\">\n",
       "      <th></th>\n",
       "      <th>Name Ticker</th>\n",
       "      <th>Full Name of the Company</th>\n",
       "      <th>Current Price</th>\n",
       "      <th>Target Mean Price</th>\n",
       "      <th>Cash on Hand</th>\n",
       "      <th>Profit Margins</th>\n",
       "      <th>Date Pulled</th>\n",
       "    </tr>\n",
       "  </thead>\n",
       "  <tbody>\n",
       "    <tr>\n",
       "      <th>0</th>\n",
       "      <td>DIS</td>\n",
       "      <td>The Walt Disney Company</td>\n",
       "      <td>100.45</td>\n",
       "      <td>130.0</td>\n",
       "      <td>8,470,000,128</td>\n",
       "      <td>3.93%</td>\n",
       "      <td>2023-02-27</td>\n",
       "    </tr>\n",
       "  </tbody>\n",
       "</table>\n",
       "</div>"
      ],
      "text/plain": [
       "  Name Ticker Full Name of the Company  Current Price  Target Mean Price  \\\n",
       "0         DIS  The Walt Disney Company         100.45              130.0   \n",
       "\n",
       "    Cash on Hand Profit Margins Date Pulled  \n",
       "0  8,470,000,128          3.93%  2023-02-27  "
      ]
     },
     "execution_count": 178,
     "metadata": {},
     "output_type": "execute_result"
    }
   ],
   "source": [
    "stock_df = pd.DataFrame({\n",
    "    \"Name Ticker\" : [stock_json[\"quoteResponse\"][\"result\"][0][\"symbol\"]],\n",
    "    \"Full Name of the Company\" : [stock_json[\"quoteResponse\"][\"result\"][0][\"longName\"]],\n",
    "    \"Current Price\" : [stock_json[\"quoteResponse\"][\"result\"][0][\"regularMarketPrice\"]],\n",
    "    \"Target Mean Price\" : [stock_json3[\"finance\"][\"result\"][\"instrumentInfo\"][\"recommendation\"][\"targetPrice\"]],\n",
    "    \"Cash on Hand\" : [stock_json4[\"quoteSummary\"][\"result\"][0][\"financialData\"][\"totalCash\"][\"longFmt\"]],\n",
    "    \"Profit Margins\" : [stock_json2[\"quoteSummary\"][\"result\"][0][\"defaultKeyStatistics\"][\"profitMargins\"][\"fmt\"]],\n",
    "    \"Date Pulled\" : [date.today()]\n",
    "})\n",
    "\n",
    "stock_df"
   ]
  },
  {
   "cell_type": "code",
   "execution_count": null,
   "id": "49f53f2e-545b-497f-a3c1-c643989049e8",
   "metadata": {},
   "outputs": [],
   "source": [
    "stock_df.to_json(\"stock_json_out.json)"
   ]
  }
 ],
 "metadata": {
  "kernelspec": {
   "display_name": "Python 3 (ipykernel)",
   "language": "python",
   "name": "python3"
  },
  "language_info": {
   "codemirror_mode": {
    "name": "ipython",
    "version": 3
   },
   "file_extension": ".py",
   "mimetype": "text/x-python",
   "name": "python",
   "nbconvert_exporter": "python",
   "pygments_lexer": "ipython3",
   "version": "3.8.13"
  }
 },
 "nbformat": 4,
 "nbformat_minor": 5
}
